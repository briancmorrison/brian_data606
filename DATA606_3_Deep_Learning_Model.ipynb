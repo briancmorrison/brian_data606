{
  "nbformat": 4,
  "nbformat_minor": 0,
  "metadata": {
    "colab": {
      "name": "DATA606 - 3 - Deep Learning Model.ipynb",
      "provenance": [],
      "authorship_tag": "ABX9TyOuMx814pKReT5co2mVrGhq"
    },
    "kernelspec": {
      "name": "python3",
      "display_name": "Python 3"
    },
    "language_info": {
      "name": "python"
    }
  },
  "cells": [
    {
      "cell_type": "markdown",
      "source": [
        "#**Machine Learning for Digital Fraud Detection**\n",
        "###Comparing the Performance of Stacking Classifier & Deep Learning Models in Identifying Instances of Digital Transaction Fraud\n",
        "\n",
        "\n",
        "\n",
        "Brian Morrison\n",
        "\n",
        "DATA606 - Capstone Project in Data Science\n",
        "\n",
        "Professor Jay Wang\n",
        "\n",
        "The University of Maryland, Baltimore County"
      ],
      "metadata": {
        "id": "e5RG2oQ-xdX3"
      }
    },
    {
      "cell_type": "markdown",
      "source": [
        "##**Part Three - Deep Learning Model**"
      ],
      "metadata": {
        "id": "ZE5w5GEKxl5t"
      }
    },
    {
      "cell_type": "markdown",
      "source": [
        "###Introduction & Notebook Overview\n",
        "\n",
        "The purpose of this notebook is to create, train, and evaluate a Deep Learning Classification Model on our data. Deep Learning is a machine learning approach involving the use of neural networks, large webs of connected nodes with individually tuned activation functions that affect their output, to assess patterns in data features. While adept at discerning discrete interactions between data features, deep learning models require a substantial amount of data to be trained efficiently.\n",
        "\n",
        "One important consideration here is that, unlike some other classification or dimensionality reduction models used in the previous notebook like Logistic Regression or PCA, Deep Learning is not distance-based and therefore does not require the robust feature scaling covered in our EDA & Dataset Preparation notebook. While the same cleaned and scaled data that was used for the Stacking Classifier will be used for the Deep Learning model for continuity, it would be possible to use unscaled features for this model."
      ],
      "metadata": {
        "id": "W6I_tpolxqrK"
      }
    },
    {
      "cell_type": "markdown",
      "source": [
        "####**Importing Data**"
      ],
      "metadata": {
        "id": "Gc-xCHnOx4KA"
      }
    },
    {
      "cell_type": "markdown",
      "source": [
        "#####SMOTE Data"
      ],
      "metadata": {
        "id": "7MNie_5yTzRT"
      }
    },
    {
      "cell_type": "code",
      "execution_count": 17,
      "metadata": {
        "id": "d7I7BWGpxXaA"
      },
      "outputs": [],
      "source": [
        "#our data imports will leverage the same code as the previous notebook\n",
        "\n",
        "import numpy as np\n",
        "import pandas as pd\n",
        "\n",
        "SMOTE_train_df_dict = {} \n",
        "SMOTE_train_df_list = ['SMOTE_train_data1', 'SMOTE_train_data2', 'SMOTE_train_data3']\n",
        "\n",
        "for df in SMOTE_train_df_list:\n",
        "  df_url = 'https://raw.githubusercontent.com/briancmorrison/brian_data606/main/Data/Cleaned/SMOTE/' + df + '.csv' \n",
        "  df_name = 'SMOTE_train_df' + df[16]\n",
        "  SMOTE_train_df_dict[df_name] = pd.read_csv(df_url, index_col = 0)"
      ]
    },
    {
      "cell_type": "code",
      "source": [
        "test_url = 'https://raw.githubusercontent.com/briancmorrison/brian_data606/main/Data/Cleaned/test_data.csv'\n",
        "test_df = pd.read_csv(test_url)\n",
        "test_df = test_df.drop('Unnamed: 0', axis = 1) #removing first index column, which was carried over"
      ],
      "metadata": {
        "id": "FyqCbNDXyDHw"
      },
      "execution_count": 18,
      "outputs": []
    },
    {
      "cell_type": "code",
      "source": [
        "SMOTE_train_df = pd.concat(SMOTE_train_df_dict.values(), ignore_index = True)\n",
        "SMOTE_train_df.head()"
      ],
      "metadata": {
        "colab": {
          "base_uri": "https://localhost:8080/",
          "height": 300
        },
        "id": "UwbAtdI4yHa7",
        "outputId": "3d1ab65d-78ea-4d0c-c23a-a07b6592c8b0"
      },
      "execution_count": 19,
      "outputs": [
        {
          "output_type": "execute_result",
          "data": {
            "text/plain": [
              "   TransactionAmt        C1        C2   C3        C4   C5        C6        C7  \\\n",
              "0        0.003656  0.000427  0.000351  0.0  0.000000  0.0  0.000888  0.000000   \n",
              "1        0.002355  0.000213  0.000176  0.0  0.000444  0.0  0.000444  0.000443   \n",
              "2        0.003029  0.000213  0.000176  0.0  0.000000  0.0  0.000444  0.000000   \n",
              "3        0.003342  0.000427  0.000176  0.0  0.000000  0.0  0.000888  0.000000   \n",
              "4        0.001558  0.000213  0.000176  0.0  0.000444  0.0  0.000444  0.000000   \n",
              "\n",
              "       C8        C9  ...       C12       C13     C14  C  H  R  S  W  \\\n",
              "0  0.0000  0.014286  ...  0.000000  0.004112  0.0014  0  0  0  0  1   \n",
              "1  0.0003  0.000000  ...  0.000314  0.000343  0.0007  1  0  0  0  0   \n",
              "2  0.0000  0.004762  ...  0.000000  0.000000  0.0000  0  0  0  0  1   \n",
              "3  0.0000  0.009524  ...  0.000000  0.001028  0.0014  0  0  0  0  1   \n",
              "4  0.0003  0.000000  ...  0.000000  0.000343  0.0007  0  1  0  0  0   \n",
              "\n",
              "   TransactionDT_mmscaler  isFraud  \n",
              "0                0.532154        0  \n",
              "1                0.038185        0  \n",
              "2                0.048856        0  \n",
              "3                0.536695        0  \n",
              "4                0.251057        0  \n",
              "\n",
              "[5 rows x 22 columns]"
            ],
            "text/html": [
              "\n",
              "  <div id=\"df-271bcb9e-9f18-42f9-933f-9b236866e09c\">\n",
              "    <div class=\"colab-df-container\">\n",
              "      <div>\n",
              "<style scoped>\n",
              "    .dataframe tbody tr th:only-of-type {\n",
              "        vertical-align: middle;\n",
              "    }\n",
              "\n",
              "    .dataframe tbody tr th {\n",
              "        vertical-align: top;\n",
              "    }\n",
              "\n",
              "    .dataframe thead th {\n",
              "        text-align: right;\n",
              "    }\n",
              "</style>\n",
              "<table border=\"1\" class=\"dataframe\">\n",
              "  <thead>\n",
              "    <tr style=\"text-align: right;\">\n",
              "      <th></th>\n",
              "      <th>TransactionAmt</th>\n",
              "      <th>C1</th>\n",
              "      <th>C2</th>\n",
              "      <th>C3</th>\n",
              "      <th>C4</th>\n",
              "      <th>C5</th>\n",
              "      <th>C6</th>\n",
              "      <th>C7</th>\n",
              "      <th>C8</th>\n",
              "      <th>C9</th>\n",
              "      <th>...</th>\n",
              "      <th>C12</th>\n",
              "      <th>C13</th>\n",
              "      <th>C14</th>\n",
              "      <th>C</th>\n",
              "      <th>H</th>\n",
              "      <th>R</th>\n",
              "      <th>S</th>\n",
              "      <th>W</th>\n",
              "      <th>TransactionDT_mmscaler</th>\n",
              "      <th>isFraud</th>\n",
              "    </tr>\n",
              "  </thead>\n",
              "  <tbody>\n",
              "    <tr>\n",
              "      <th>0</th>\n",
              "      <td>0.003656</td>\n",
              "      <td>0.000427</td>\n",
              "      <td>0.000351</td>\n",
              "      <td>0.0</td>\n",
              "      <td>0.000000</td>\n",
              "      <td>0.0</td>\n",
              "      <td>0.000888</td>\n",
              "      <td>0.000000</td>\n",
              "      <td>0.0000</td>\n",
              "      <td>0.014286</td>\n",
              "      <td>...</td>\n",
              "      <td>0.000000</td>\n",
              "      <td>0.004112</td>\n",
              "      <td>0.0014</td>\n",
              "      <td>0</td>\n",
              "      <td>0</td>\n",
              "      <td>0</td>\n",
              "      <td>0</td>\n",
              "      <td>1</td>\n",
              "      <td>0.532154</td>\n",
              "      <td>0</td>\n",
              "    </tr>\n",
              "    <tr>\n",
              "      <th>1</th>\n",
              "      <td>0.002355</td>\n",
              "      <td>0.000213</td>\n",
              "      <td>0.000176</td>\n",
              "      <td>0.0</td>\n",
              "      <td>0.000444</td>\n",
              "      <td>0.0</td>\n",
              "      <td>0.000444</td>\n",
              "      <td>0.000443</td>\n",
              "      <td>0.0003</td>\n",
              "      <td>0.000000</td>\n",
              "      <td>...</td>\n",
              "      <td>0.000314</td>\n",
              "      <td>0.000343</td>\n",
              "      <td>0.0007</td>\n",
              "      <td>1</td>\n",
              "      <td>0</td>\n",
              "      <td>0</td>\n",
              "      <td>0</td>\n",
              "      <td>0</td>\n",
              "      <td>0.038185</td>\n",
              "      <td>0</td>\n",
              "    </tr>\n",
              "    <tr>\n",
              "      <th>2</th>\n",
              "      <td>0.003029</td>\n",
              "      <td>0.000213</td>\n",
              "      <td>0.000176</td>\n",
              "      <td>0.0</td>\n",
              "      <td>0.000000</td>\n",
              "      <td>0.0</td>\n",
              "      <td>0.000444</td>\n",
              "      <td>0.000000</td>\n",
              "      <td>0.0000</td>\n",
              "      <td>0.004762</td>\n",
              "      <td>...</td>\n",
              "      <td>0.000000</td>\n",
              "      <td>0.000000</td>\n",
              "      <td>0.0000</td>\n",
              "      <td>0</td>\n",
              "      <td>0</td>\n",
              "      <td>0</td>\n",
              "      <td>0</td>\n",
              "      <td>1</td>\n",
              "      <td>0.048856</td>\n",
              "      <td>0</td>\n",
              "    </tr>\n",
              "    <tr>\n",
              "      <th>3</th>\n",
              "      <td>0.003342</td>\n",
              "      <td>0.000427</td>\n",
              "      <td>0.000176</td>\n",
              "      <td>0.0</td>\n",
              "      <td>0.000000</td>\n",
              "      <td>0.0</td>\n",
              "      <td>0.000888</td>\n",
              "      <td>0.000000</td>\n",
              "      <td>0.0000</td>\n",
              "      <td>0.009524</td>\n",
              "      <td>...</td>\n",
              "      <td>0.000000</td>\n",
              "      <td>0.001028</td>\n",
              "      <td>0.0014</td>\n",
              "      <td>0</td>\n",
              "      <td>0</td>\n",
              "      <td>0</td>\n",
              "      <td>0</td>\n",
              "      <td>1</td>\n",
              "      <td>0.536695</td>\n",
              "      <td>0</td>\n",
              "    </tr>\n",
              "    <tr>\n",
              "      <th>4</th>\n",
              "      <td>0.001558</td>\n",
              "      <td>0.000213</td>\n",
              "      <td>0.000176</td>\n",
              "      <td>0.0</td>\n",
              "      <td>0.000444</td>\n",
              "      <td>0.0</td>\n",
              "      <td>0.000444</td>\n",
              "      <td>0.000000</td>\n",
              "      <td>0.0003</td>\n",
              "      <td>0.000000</td>\n",
              "      <td>...</td>\n",
              "      <td>0.000000</td>\n",
              "      <td>0.000343</td>\n",
              "      <td>0.0007</td>\n",
              "      <td>0</td>\n",
              "      <td>1</td>\n",
              "      <td>0</td>\n",
              "      <td>0</td>\n",
              "      <td>0</td>\n",
              "      <td>0.251057</td>\n",
              "      <td>0</td>\n",
              "    </tr>\n",
              "  </tbody>\n",
              "</table>\n",
              "<p>5 rows × 22 columns</p>\n",
              "</div>\n",
              "      <button class=\"colab-df-convert\" onclick=\"convertToInteractive('df-271bcb9e-9f18-42f9-933f-9b236866e09c')\"\n",
              "              title=\"Convert this dataframe to an interactive table.\"\n",
              "              style=\"display:none;\">\n",
              "        \n",
              "  <svg xmlns=\"http://www.w3.org/2000/svg\" height=\"24px\"viewBox=\"0 0 24 24\"\n",
              "       width=\"24px\">\n",
              "    <path d=\"M0 0h24v24H0V0z\" fill=\"none\"/>\n",
              "    <path d=\"M18.56 5.44l.94 2.06.94-2.06 2.06-.94-2.06-.94-.94-2.06-.94 2.06-2.06.94zm-11 1L8.5 8.5l.94-2.06 2.06-.94-2.06-.94L8.5 2.5l-.94 2.06-2.06.94zm10 10l.94 2.06.94-2.06 2.06-.94-2.06-.94-.94-2.06-.94 2.06-2.06.94z\"/><path d=\"M17.41 7.96l-1.37-1.37c-.4-.4-.92-.59-1.43-.59-.52 0-1.04.2-1.43.59L10.3 9.45l-7.72 7.72c-.78.78-.78 2.05 0 2.83L4 21.41c.39.39.9.59 1.41.59.51 0 1.02-.2 1.41-.59l7.78-7.78 2.81-2.81c.8-.78.8-2.07 0-2.86zM5.41 20L4 18.59l7.72-7.72 1.47 1.35L5.41 20z\"/>\n",
              "  </svg>\n",
              "      </button>\n",
              "      \n",
              "  <style>\n",
              "    .colab-df-container {\n",
              "      display:flex;\n",
              "      flex-wrap:wrap;\n",
              "      gap: 12px;\n",
              "    }\n",
              "\n",
              "    .colab-df-convert {\n",
              "      background-color: #E8F0FE;\n",
              "      border: none;\n",
              "      border-radius: 50%;\n",
              "      cursor: pointer;\n",
              "      display: none;\n",
              "      fill: #1967D2;\n",
              "      height: 32px;\n",
              "      padding: 0 0 0 0;\n",
              "      width: 32px;\n",
              "    }\n",
              "\n",
              "    .colab-df-convert:hover {\n",
              "      background-color: #E2EBFA;\n",
              "      box-shadow: 0px 1px 2px rgba(60, 64, 67, 0.3), 0px 1px 3px 1px rgba(60, 64, 67, 0.15);\n",
              "      fill: #174EA6;\n",
              "    }\n",
              "\n",
              "    [theme=dark] .colab-df-convert {\n",
              "      background-color: #3B4455;\n",
              "      fill: #D2E3FC;\n",
              "    }\n",
              "\n",
              "    [theme=dark] .colab-df-convert:hover {\n",
              "      background-color: #434B5C;\n",
              "      box-shadow: 0px 1px 3px 1px rgba(0, 0, 0, 0.15);\n",
              "      filter: drop-shadow(0px 1px 2px rgba(0, 0, 0, 0.3));\n",
              "      fill: #FFFFFF;\n",
              "    }\n",
              "  </style>\n",
              "\n",
              "      <script>\n",
              "        const buttonEl =\n",
              "          document.querySelector('#df-271bcb9e-9f18-42f9-933f-9b236866e09c button.colab-df-convert');\n",
              "        buttonEl.style.display =\n",
              "          google.colab.kernel.accessAllowed ? 'block' : 'none';\n",
              "\n",
              "        async function convertToInteractive(key) {\n",
              "          const element = document.querySelector('#df-271bcb9e-9f18-42f9-933f-9b236866e09c');\n",
              "          const dataTable =\n",
              "            await google.colab.kernel.invokeFunction('convertToInteractive',\n",
              "                                                     [key], {});\n",
              "          if (!dataTable) return;\n",
              "\n",
              "          const docLinkHtml = 'Like what you see? Visit the ' +\n",
              "            '<a target=\"_blank\" href=https://colab.research.google.com/notebooks/data_table.ipynb>data table notebook</a>'\n",
              "            + ' to learn more about interactive tables.';\n",
              "          element.innerHTML = '';\n",
              "          dataTable['output_type'] = 'display_data';\n",
              "          await google.colab.output.renderOutput(dataTable, element);\n",
              "          const docLink = document.createElement('div');\n",
              "          docLink.innerHTML = docLinkHtml;\n",
              "          element.appendChild(docLink);\n",
              "        }\n",
              "      </script>\n",
              "    </div>\n",
              "  </div>\n",
              "  "
            ]
          },
          "metadata": {},
          "execution_count": 19
        }
      ]
    },
    {
      "cell_type": "code",
      "source": [
        "len(SMOTE_train_df)"
      ],
      "metadata": {
        "colab": {
          "base_uri": "https://localhost:8080/"
        },
        "id": "cOTmPMtcyJtm",
        "outputId": "2513ddcc-20ac-4a54-fa9b-37c4f4c230da"
      },
      "execution_count": 20,
      "outputs": [
        {
          "output_type": "execute_result",
          "data": {
            "text/plain": [
              "797828"
            ]
          },
          "metadata": {},
          "execution_count": 20
        }
      ]
    },
    {
      "cell_type": "markdown",
      "source": [
        "#####ROS Data"
      ],
      "metadata": {
        "id": "5CUK0vdGT3zN"
      }
    },
    {
      "cell_type": "code",
      "source": [
        "ROS_train_df_dict = {} \n",
        "ROS_train_df_list = ['ROS_train_data1', 'ROS_train_data2', 'ROS_train_data3']\n",
        "\n",
        "for df in ROS_train_df_list:\n",
        "  df_url = 'https://raw.githubusercontent.com/briancmorrison/brian_data606/main/Data/Cleaned/ROS/' + df + '.csv' \n",
        "  df_name = 'ROS_train_df' + df[14]\n",
        "  ROS_train_df_dict[df_name] = pd.read_csv(df_url, index_col = 0)"
      ],
      "metadata": {
        "id": "F8o3z6iEUUOp"
      },
      "execution_count": 21,
      "outputs": []
    },
    {
      "cell_type": "code",
      "source": [
        "ROS_train_df = pd.concat(ROS_train_df_dict.values(), ignore_index = True)\n",
        "ROS_train_df.head()"
      ],
      "metadata": {
        "colab": {
          "base_uri": "https://localhost:8080/",
          "height": 300
        },
        "id": "tCyM4DhwUtZ_",
        "outputId": "4a7138c2-eacc-44f0-c5a6-381f8d9246b2"
      },
      "execution_count": 22,
      "outputs": [
        {
          "output_type": "execute_result",
          "data": {
            "text/plain": [
              "   TransactionAmt        C1        C2   C3        C4   C5        C6        C7  \\\n",
              "0        0.003656  0.000427  0.000351  0.0  0.000000  0.0  0.000888  0.000000   \n",
              "1        0.002355  0.000213  0.000176  0.0  0.000444  0.0  0.000444  0.000443   \n",
              "2        0.003029  0.000213  0.000176  0.0  0.000000  0.0  0.000444  0.000000   \n",
              "3        0.003342  0.000427  0.000176  0.0  0.000000  0.0  0.000888  0.000000   \n",
              "4        0.001558  0.000213  0.000176  0.0  0.000444  0.0  0.000444  0.000000   \n",
              "\n",
              "       C8        C9  ...       C12       C13     C14  C  H  R  S  W  \\\n",
              "0  0.0000  0.014286  ...  0.000000  0.004112  0.0014  0  0  0  0  1   \n",
              "1  0.0003  0.000000  ...  0.000314  0.000343  0.0007  1  0  0  0  0   \n",
              "2  0.0000  0.004762  ...  0.000000  0.000000  0.0000  0  0  0  0  1   \n",
              "3  0.0000  0.009524  ...  0.000000  0.001028  0.0014  0  0  0  0  1   \n",
              "4  0.0003  0.000000  ...  0.000000  0.000343  0.0007  0  1  0  0  0   \n",
              "\n",
              "   TransactionDT_mmscaler  isFraud  \n",
              "0                0.532154        0  \n",
              "1                0.038185        0  \n",
              "2                0.048856        0  \n",
              "3                0.536695        0  \n",
              "4                0.251057        0  \n",
              "\n",
              "[5 rows x 22 columns]"
            ],
            "text/html": [
              "\n",
              "  <div id=\"df-2d8f211a-2998-45b8-bf97-31341a934a29\">\n",
              "    <div class=\"colab-df-container\">\n",
              "      <div>\n",
              "<style scoped>\n",
              "    .dataframe tbody tr th:only-of-type {\n",
              "        vertical-align: middle;\n",
              "    }\n",
              "\n",
              "    .dataframe tbody tr th {\n",
              "        vertical-align: top;\n",
              "    }\n",
              "\n",
              "    .dataframe thead th {\n",
              "        text-align: right;\n",
              "    }\n",
              "</style>\n",
              "<table border=\"1\" class=\"dataframe\">\n",
              "  <thead>\n",
              "    <tr style=\"text-align: right;\">\n",
              "      <th></th>\n",
              "      <th>TransactionAmt</th>\n",
              "      <th>C1</th>\n",
              "      <th>C2</th>\n",
              "      <th>C3</th>\n",
              "      <th>C4</th>\n",
              "      <th>C5</th>\n",
              "      <th>C6</th>\n",
              "      <th>C7</th>\n",
              "      <th>C8</th>\n",
              "      <th>C9</th>\n",
              "      <th>...</th>\n",
              "      <th>C12</th>\n",
              "      <th>C13</th>\n",
              "      <th>C14</th>\n",
              "      <th>C</th>\n",
              "      <th>H</th>\n",
              "      <th>R</th>\n",
              "      <th>S</th>\n",
              "      <th>W</th>\n",
              "      <th>TransactionDT_mmscaler</th>\n",
              "      <th>isFraud</th>\n",
              "    </tr>\n",
              "  </thead>\n",
              "  <tbody>\n",
              "    <tr>\n",
              "      <th>0</th>\n",
              "      <td>0.003656</td>\n",
              "      <td>0.000427</td>\n",
              "      <td>0.000351</td>\n",
              "      <td>0.0</td>\n",
              "      <td>0.000000</td>\n",
              "      <td>0.0</td>\n",
              "      <td>0.000888</td>\n",
              "      <td>0.000000</td>\n",
              "      <td>0.0000</td>\n",
              "      <td>0.014286</td>\n",
              "      <td>...</td>\n",
              "      <td>0.000000</td>\n",
              "      <td>0.004112</td>\n",
              "      <td>0.0014</td>\n",
              "      <td>0</td>\n",
              "      <td>0</td>\n",
              "      <td>0</td>\n",
              "      <td>0</td>\n",
              "      <td>1</td>\n",
              "      <td>0.532154</td>\n",
              "      <td>0</td>\n",
              "    </tr>\n",
              "    <tr>\n",
              "      <th>1</th>\n",
              "      <td>0.002355</td>\n",
              "      <td>0.000213</td>\n",
              "      <td>0.000176</td>\n",
              "      <td>0.0</td>\n",
              "      <td>0.000444</td>\n",
              "      <td>0.0</td>\n",
              "      <td>0.000444</td>\n",
              "      <td>0.000443</td>\n",
              "      <td>0.0003</td>\n",
              "      <td>0.000000</td>\n",
              "      <td>...</td>\n",
              "      <td>0.000314</td>\n",
              "      <td>0.000343</td>\n",
              "      <td>0.0007</td>\n",
              "      <td>1</td>\n",
              "      <td>0</td>\n",
              "      <td>0</td>\n",
              "      <td>0</td>\n",
              "      <td>0</td>\n",
              "      <td>0.038185</td>\n",
              "      <td>0</td>\n",
              "    </tr>\n",
              "    <tr>\n",
              "      <th>2</th>\n",
              "      <td>0.003029</td>\n",
              "      <td>0.000213</td>\n",
              "      <td>0.000176</td>\n",
              "      <td>0.0</td>\n",
              "      <td>0.000000</td>\n",
              "      <td>0.0</td>\n",
              "      <td>0.000444</td>\n",
              "      <td>0.000000</td>\n",
              "      <td>0.0000</td>\n",
              "      <td>0.004762</td>\n",
              "      <td>...</td>\n",
              "      <td>0.000000</td>\n",
              "      <td>0.000000</td>\n",
              "      <td>0.0000</td>\n",
              "      <td>0</td>\n",
              "      <td>0</td>\n",
              "      <td>0</td>\n",
              "      <td>0</td>\n",
              "      <td>1</td>\n",
              "      <td>0.048856</td>\n",
              "      <td>0</td>\n",
              "    </tr>\n",
              "    <tr>\n",
              "      <th>3</th>\n",
              "      <td>0.003342</td>\n",
              "      <td>0.000427</td>\n",
              "      <td>0.000176</td>\n",
              "      <td>0.0</td>\n",
              "      <td>0.000000</td>\n",
              "      <td>0.0</td>\n",
              "      <td>0.000888</td>\n",
              "      <td>0.000000</td>\n",
              "      <td>0.0000</td>\n",
              "      <td>0.009524</td>\n",
              "      <td>...</td>\n",
              "      <td>0.000000</td>\n",
              "      <td>0.001028</td>\n",
              "      <td>0.0014</td>\n",
              "      <td>0</td>\n",
              "      <td>0</td>\n",
              "      <td>0</td>\n",
              "      <td>0</td>\n",
              "      <td>1</td>\n",
              "      <td>0.536695</td>\n",
              "      <td>0</td>\n",
              "    </tr>\n",
              "    <tr>\n",
              "      <th>4</th>\n",
              "      <td>0.001558</td>\n",
              "      <td>0.000213</td>\n",
              "      <td>0.000176</td>\n",
              "      <td>0.0</td>\n",
              "      <td>0.000444</td>\n",
              "      <td>0.0</td>\n",
              "      <td>0.000444</td>\n",
              "      <td>0.000000</td>\n",
              "      <td>0.0003</td>\n",
              "      <td>0.000000</td>\n",
              "      <td>...</td>\n",
              "      <td>0.000000</td>\n",
              "      <td>0.000343</td>\n",
              "      <td>0.0007</td>\n",
              "      <td>0</td>\n",
              "      <td>1</td>\n",
              "      <td>0</td>\n",
              "      <td>0</td>\n",
              "      <td>0</td>\n",
              "      <td>0.251057</td>\n",
              "      <td>0</td>\n",
              "    </tr>\n",
              "  </tbody>\n",
              "</table>\n",
              "<p>5 rows × 22 columns</p>\n",
              "</div>\n",
              "      <button class=\"colab-df-convert\" onclick=\"convertToInteractive('df-2d8f211a-2998-45b8-bf97-31341a934a29')\"\n",
              "              title=\"Convert this dataframe to an interactive table.\"\n",
              "              style=\"display:none;\">\n",
              "        \n",
              "  <svg xmlns=\"http://www.w3.org/2000/svg\" height=\"24px\"viewBox=\"0 0 24 24\"\n",
              "       width=\"24px\">\n",
              "    <path d=\"M0 0h24v24H0V0z\" fill=\"none\"/>\n",
              "    <path d=\"M18.56 5.44l.94 2.06.94-2.06 2.06-.94-2.06-.94-.94-2.06-.94 2.06-2.06.94zm-11 1L8.5 8.5l.94-2.06 2.06-.94-2.06-.94L8.5 2.5l-.94 2.06-2.06.94zm10 10l.94 2.06.94-2.06 2.06-.94-2.06-.94-.94-2.06-.94 2.06-2.06.94z\"/><path d=\"M17.41 7.96l-1.37-1.37c-.4-.4-.92-.59-1.43-.59-.52 0-1.04.2-1.43.59L10.3 9.45l-7.72 7.72c-.78.78-.78 2.05 0 2.83L4 21.41c.39.39.9.59 1.41.59.51 0 1.02-.2 1.41-.59l7.78-7.78 2.81-2.81c.8-.78.8-2.07 0-2.86zM5.41 20L4 18.59l7.72-7.72 1.47 1.35L5.41 20z\"/>\n",
              "  </svg>\n",
              "      </button>\n",
              "      \n",
              "  <style>\n",
              "    .colab-df-container {\n",
              "      display:flex;\n",
              "      flex-wrap:wrap;\n",
              "      gap: 12px;\n",
              "    }\n",
              "\n",
              "    .colab-df-convert {\n",
              "      background-color: #E8F0FE;\n",
              "      border: none;\n",
              "      border-radius: 50%;\n",
              "      cursor: pointer;\n",
              "      display: none;\n",
              "      fill: #1967D2;\n",
              "      height: 32px;\n",
              "      padding: 0 0 0 0;\n",
              "      width: 32px;\n",
              "    }\n",
              "\n",
              "    .colab-df-convert:hover {\n",
              "      background-color: #E2EBFA;\n",
              "      box-shadow: 0px 1px 2px rgba(60, 64, 67, 0.3), 0px 1px 3px 1px rgba(60, 64, 67, 0.15);\n",
              "      fill: #174EA6;\n",
              "    }\n",
              "\n",
              "    [theme=dark] .colab-df-convert {\n",
              "      background-color: #3B4455;\n",
              "      fill: #D2E3FC;\n",
              "    }\n",
              "\n",
              "    [theme=dark] .colab-df-convert:hover {\n",
              "      background-color: #434B5C;\n",
              "      box-shadow: 0px 1px 3px 1px rgba(0, 0, 0, 0.15);\n",
              "      filter: drop-shadow(0px 1px 2px rgba(0, 0, 0, 0.3));\n",
              "      fill: #FFFFFF;\n",
              "    }\n",
              "  </style>\n",
              "\n",
              "      <script>\n",
              "        const buttonEl =\n",
              "          document.querySelector('#df-2d8f211a-2998-45b8-bf97-31341a934a29 button.colab-df-convert');\n",
              "        buttonEl.style.display =\n",
              "          google.colab.kernel.accessAllowed ? 'block' : 'none';\n",
              "\n",
              "        async function convertToInteractive(key) {\n",
              "          const element = document.querySelector('#df-2d8f211a-2998-45b8-bf97-31341a934a29');\n",
              "          const dataTable =\n",
              "            await google.colab.kernel.invokeFunction('convertToInteractive',\n",
              "                                                     [key], {});\n",
              "          if (!dataTable) return;\n",
              "\n",
              "          const docLinkHtml = 'Like what you see? Visit the ' +\n",
              "            '<a target=\"_blank\" href=https://colab.research.google.com/notebooks/data_table.ipynb>data table notebook</a>'\n",
              "            + ' to learn more about interactive tables.';\n",
              "          element.innerHTML = '';\n",
              "          dataTable['output_type'] = 'display_data';\n",
              "          await google.colab.output.renderOutput(dataTable, element);\n",
              "          const docLink = document.createElement('div');\n",
              "          docLink.innerHTML = docLinkHtml;\n",
              "          element.appendChild(docLink);\n",
              "        }\n",
              "      </script>\n",
              "    </div>\n",
              "  </div>\n",
              "  "
            ]
          },
          "metadata": {},
          "execution_count": 22
        }
      ]
    },
    {
      "cell_type": "code",
      "source": [
        "len(ROS_train_df)"
      ],
      "metadata": {
        "colab": {
          "base_uri": "https://localhost:8080/"
        },
        "id": "LBZ6ARYdU1Pb",
        "outputId": "319357a8-df8b-4d22-f2b4-555c988e5244"
      },
      "execution_count": 23,
      "outputs": [
        {
          "output_type": "execute_result",
          "data": {
            "text/plain": [
              "797828"
            ]
          },
          "metadata": {},
          "execution_count": 23
        }
      ]
    },
    {
      "cell_type": "markdown",
      "source": [
        "####**Defining Variables & Splitting Data**"
      ],
      "metadata": {
        "id": "zhvYq0WdyL4u"
      }
    },
    {
      "cell_type": "code",
      "source": [
        "y_train_SMOTE = SMOTE_train_df.pop('isFraud')\n",
        "X_train_SMOTE = SMOTE_train_df.to_numpy()\n",
        "\n",
        "y_train_ROS = ROS_train_df.pop('isFraud')\n",
        "X_train_ROS = ROS_train_df.to_numpy()\n",
        "\n",
        "y_test = test_df.pop('isFraud')\n",
        "X_test = test_df.to_numpy()"
      ],
      "metadata": {
        "id": "sI_UK9lkyOKE"
      },
      "execution_count": 24,
      "outputs": []
    },
    {
      "cell_type": "markdown",
      "source": [
        "####**Building Deep Learning Model**"
      ],
      "metadata": {
        "id": "_xIeRjwNzAAp"
      }
    },
    {
      "cell_type": "markdown",
      "source": [
        "Prior to creating our Deep Learning model, it is important to consider the significant role that widely available, pre-trained models have on this space. Transfer Learning is a process by which pre-trained models with existing node weights are imported, edited to align with data input and output parameters, and trained on the relevant dataset. This method of implementing Deep Learning often shows higher performance in both classification and regression problems, as the models are exposed to exponentially higher volumes of data and may be less susceptible to common challenges such as overfitting to training data.\n",
        "\n",
        "For this project, we will create a simple Deep Learning model comprised of 4 distinct layers of fully connected nodes. These layers are detailed below:\n",
        "\n",
        "* *Input Layer* - An input layer expecting a flattened array of 21 distinct features to be passed through it.\n",
        "* *First Dense Layer* - A dense layer of 64 neurons, in which each neuron receives input from each neuron in the preceding layer. The activation function is specified as relu, or Rectified Linear Unit, a linear activation function that outputs its input if it is positive or zero if it is negative.\n",
        "* *Second Dense Layer* - An identical dense layer to the previous layer, comprised of 64 neurons that receive input from all neurons in the preceding layer. The relu activation function is again used to determine neuron outputs. \n",
        "* *Output Layer* - A final dense layer producing a single output informing the class label prediction. This layer employs a sigmoid activation function, which is a non-linear activation function that produces a value between zero and one representing the probability that the class prediction is not zero."
      ],
      "metadata": {
        "id": "zqO3iEhrzFXh"
      }
    },
    {
      "cell_type": "code",
      "source": [
        "#we will use keras, a popular deep learning library within tensorflow, to create our model\n",
        "\n",
        "import tensorflow as tf\n",
        "from tensorflow import keras\n",
        "\n",
        "dl_model_SMOTE = keras.Sequential([keras.layers.Flatten(input_shape = (21,)), #the shape of our data, which is stored as an array of 21 features\n",
        "                 keras.layers.Dense(64, activation = tf.nn.relu), #two dense layers employing relu activation functions\n",
        "\t               keras.layers.Dense(64, activation = tf.nn.relu),\n",
        "                 keras.layers.Dense(1, activation = tf.nn.sigmoid)]) #model output, a single binary class label prediction\n",
        "\n",
        "dl_model_ROS =   keras.Sequential([keras.layers.Flatten(input_shape = (21,)), \n",
        "                 keras.layers.Dense(64, activation = tf.nn.relu), \n",
        "\t               keras.layers.Dense(64, activation = tf.nn.relu),\n",
        "                 keras.layers.Dense(1, activation = tf.nn.sigmoid)])"
      ],
      "metadata": {
        "id": "c_Mnv0LFy7VL"
      },
      "execution_count": 25,
      "outputs": []
    },
    {
      "cell_type": "markdown",
      "source": [
        "We will now compile our model, with a few important hyperparameters. A brief overview of these hyperparameters is included below:\n",
        "\n",
        "* *Adam Optimizer* - Adam is an optimization function used to determine the rate at which network weights are adjusted based on training data, adapting learning weights bassed on calculations using the gradient of the loss function.\n",
        "* *Binary Crossentropy Loss Function* - Binary Crossentropy is a loss function used in binary classification tasks, calculating a loss score based on the distance between actual class labels and predicted class labels.\n",
        "* *Accuracy Metric* - As was discussed in the previous notebook, accuracy is not a meaningful metric to consider in binary classification problems. We will leverage a unique Keras metric, binary accuracy, to assess the effectiveness of our models in this project."
      ],
      "metadata": {
        "id": "SLIMJI740S51"
      }
    },
    {
      "cell_type": "code",
      "source": [
        "dl_model_SMOTE.compile(optimizer = 'adam', loss = 'binary_crossentropy', metrics = ['binary_accuracy']) \n",
        "\n",
        "dl_model_ROS.compile(optimizer = 'adam', loss = 'binary_crossentropy', metrics = ['binary_accuracy']) "
      ],
      "metadata": {
        "id": "v-hvQ_4s0Nbe"
      },
      "execution_count": 26,
      "outputs": []
    },
    {
      "cell_type": "markdown",
      "source": [
        "####**Model Fitting & Evaluation**"
      ],
      "metadata": {
        "id": "cL4TNWftVMDX"
      }
    },
    {
      "cell_type": "markdown",
      "source": [
        "#####SMOTE"
      ],
      "metadata": {
        "id": "oKmCe5T55qKf"
      }
    },
    {
      "cell_type": "code",
      "source": [
        "dl_model_SMOTE.fit(X_train_SMOTE, y_train_SMOTE, epochs = 5, batch_size = 1)"
      ],
      "metadata": {
        "colab": {
          "base_uri": "https://localhost:8080/"
        },
        "id": "2MZjwBUxVVmi",
        "outputId": "59322747-b49b-4a96-939f-d00f63df26c4"
      },
      "execution_count": 11,
      "outputs": [
        {
          "output_type": "stream",
          "name": "stdout",
          "text": [
            "Epoch 1/5\n",
            "797828/797828 [==============================] - 1263s 2ms/step - loss: 0.5174 - binary_accuracy: 0.7339\n",
            "Epoch 2/5\n",
            "797828/797828 [==============================] - 1272s 2ms/step - loss: 0.4677 - binary_accuracy: 0.7667\n",
            "Epoch 3/5\n",
            "797828/797828 [==============================] - 1280s 2ms/step - loss: 0.4525 - binary_accuracy: 0.7791\n",
            "Epoch 4/5\n",
            "797828/797828 [==============================] - 1238s 2ms/step - loss: 0.4486 - binary_accuracy: 0.7803\n",
            "Epoch 5/5\n",
            "797828/797828 [==============================] - 1230s 2ms/step - loss: 0.4490 - binary_accuracy: 0.7793\n"
          ]
        },
        {
          "output_type": "execute_result",
          "data": {
            "text/plain": [
              "<keras.callbacks.History at 0x7f238fce4710>"
            ]
          },
          "metadata": {},
          "execution_count": 11
        }
      ]
    },
    {
      "cell_type": "code",
      "source": [
        "test_loss, test_acc = dl_model_SMOTE.evaluate(X_test, y_test)\n",
        "\n",
        "print('Test loss:', test_loss)\n",
        "print('Test accuracy:', test_acc)"
      ],
      "metadata": {
        "colab": {
          "base_uri": "https://localhost:8080/"
        },
        "id": "6T2ADtsW0Zhh",
        "outputId": "b865d7d2-514e-4095-a1b2-6eaa5793751b"
      },
      "execution_count": 12,
      "outputs": [
        {
          "output_type": "stream",
          "name": "stdout",
          "text": [
            "5537/5537 [==============================] - 7s 1ms/step - loss: 0.4001 - binary_accuracy: 0.8638\n",
            "Test loss: 0.40013277530670166\n",
            "Test accuracy: 0.8637630939483643\n"
          ]
        }
      ]
    },
    {
      "cell_type": "markdown",
      "source": [
        "Similar to the previous notebook, our accuracy seems relatively high - though this does not portray the full story of model success. In order to assess the effectiveness of the model, we will need to examine its predictions based on an unseen testing datset."
      ],
      "metadata": {
        "id": "btUxZ2onViTZ"
      }
    },
    {
      "cell_type": "code",
      "source": [
        "from sklearn.metrics import classification_report\n",
        "from sklearn.model_selection import cross_val_predict\n",
        "\n",
        "#because we used a sigmod activation function, which outputs probabalistic values between 0 and 1, we'll need to set a threshold (0.5) to separate class predictions\n",
        "predictions = dl_model_SMOTE.predict(X_test) > 0.5 #generating predictions\n",
        "print(classification_report(predictions, y_test))"
      ],
      "metadata": {
        "colab": {
          "base_uri": "https://localhost:8080/"
        },
        "id": "Z_Y-9B7EVdj_",
        "outputId": "6667f07c-e0cb-42da-86ff-d1fd4c8681dc"
      },
      "execution_count": 13,
      "outputs": [
        {
          "output_type": "stream",
          "name": "stdout",
          "text": [
            "              precision    recall  f1-score   support\n",
            "\n",
            "       False       0.87      0.99      0.93    150975\n",
            "        True       0.67      0.16      0.25     26187\n",
            "\n",
            "    accuracy                           0.86    177162\n",
            "   macro avg       0.77      0.57      0.59    177162\n",
            "weighted avg       0.84      0.86      0.83    177162\n",
            "\n"
          ]
        }
      ]
    },
    {
      "cell_type": "code",
      "source": [
        "from sklearn.metrics import confusion_matrix\n",
        "import matplotlib.pyplot as plt\n",
        "import seaborn as sns\n",
        "\n",
        "def show_classification_matrix(y_true, y_pred): #using the same helper function as the previous notebook\n",
        "  cm = confusion_matrix(y_true, y_pred)\n",
        "  sns.heatmap(cm, annot = True, fmt = \"0\")\n",
        "  ax = plt.gca()\n",
        "  ax.set_xlabel(\"Predicted\")\n",
        "  ax.set_ylabel(\"Actual\")"
      ],
      "metadata": {
        "id": "eiHxe29bVoJN"
      },
      "execution_count": 14,
      "outputs": []
    },
    {
      "cell_type": "code",
      "source": [
        "show_classification_matrix(y_test, predictions) #showing classification matrix"
      ],
      "metadata": {
        "colab": {
          "base_uri": "https://localhost:8080/",
          "height": 279
        },
        "id": "WVlwLNLmVqDP",
        "outputId": "ef0397ae-b223-4368-92f5-21fa6dd11e0a"
      },
      "execution_count": 15,
      "outputs": [
        {
          "output_type": "display_data",
          "data": {
            "text/plain": [
              "<Figure size 432x288 with 2 Axes>"
            ],
            "image/png": "[encoded data removed]"
          },
          "metadata": {
            "needs_background": "light"
          }
        }
      ]
    },
    {
      "cell_type": "markdown",
      "source": [
        "#####ROS"
      ],
      "metadata": {
        "id": "QIJ6qowA1Qk1"
      }
    },
    {
      "cell_type": "code",
      "source": [
        "dl_model_ROS.fit(X_train_ROS, y_train_ROS, epochs = 5, batch_size = 1)"
      ],
      "metadata": {
        "colab": {
          "base_uri": "https://localhost:8080/"
        },
        "id": "m-ePk-C6Vsri",
        "outputId": "3aa6f480-1b46-4ed4-c5d3-67850df18b0e"
      },
      "execution_count": 27,
      "outputs": [
        {
          "output_type": "stream",
          "name": "stdout",
          "text": [
            "Epoch 1/5\n",
            "797828/797828 [==============================] - 1303s 2ms/step - loss: 0.5267 - binary_accuracy: 0.7293\n",
            "Epoch 2/5\n",
            "797828/797828 [==============================] - 1334s 2ms/step - loss: 0.4876 - binary_accuracy: 0.7565\n",
            "Epoch 3/5\n",
            "797828/797828 [==============================] - 1329s 2ms/step - loss: 0.4810 - binary_accuracy: 0.7620\n",
            "Epoch 4/5\n",
            "797828/797828 [==============================] - 1324s 2ms/step - loss: 0.4774 - binary_accuracy: 0.7649\n",
            "Epoch 5/5\n",
            "797828/797828 [==============================] - 1306s 2ms/step - loss: 0.4748 - binary_accuracy: 0.7665\n"
          ]
        },
        {
          "output_type": "execute_result",
          "data": {
            "text/plain": [
              "<keras.callbacks.History at 0x7f231d431c10>"
            ]
          },
          "metadata": {},
          "execution_count": 27
        }
      ]
    },
    {
      "cell_type": "code",
      "source": [
        "test_loss, test_acc = dl_model_ROS.evaluate(X_test, y_test)\n",
        "print('Test accuracy:', test_acc)"
      ],
      "metadata": {
        "colab": {
          "base_uri": "https://localhost:8080/"
        },
        "id": "2yRnb0yuV0fs",
        "outputId": "d8bfec7c-a607-4c57-e7e2-1a5076d1ebd2"
      },
      "execution_count": 28,
      "outputs": [
        {
          "output_type": "stream",
          "name": "stdout",
          "text": [
            "5537/5537 [==============================] - 7s 1ms/step - loss: 0.4940 - binary_accuracy: 0.7907\n",
            "Test accuracy: 0.7906944155693054\n"
          ]
        }
      ]
    },
    {
      "cell_type": "code",
      "source": [
        "predictions = dl_model_ROS.predict(X_test) > 0.5 #generating predictions\n",
        "print(classification_report(predictions, y_test))"
      ],
      "metadata": {
        "colab": {
          "base_uri": "https://localhost:8080/"
        },
        "id": "WcvG-Fvb1SUT",
        "outputId": "a50b4fef-03ad-4708-e8b2-89f88dc291e4"
      },
      "execution_count": 29,
      "outputs": [
        {
          "output_type": "stream",
          "name": "stdout",
          "text": [
            "              precision    recall  f1-score   support\n",
            "\n",
            "       False       0.79      0.99      0.88    137092\n",
            "        True       0.74      0.11      0.20     40070\n",
            "\n",
            "    accuracy                           0.79    177162\n",
            "   macro avg       0.77      0.55      0.54    177162\n",
            "weighted avg       0.78      0.79      0.73    177162\n",
            "\n"
          ]
        }
      ]
    },
    {
      "cell_type": "code",
      "source": [
        "show_classification_matrix(y_test, predictions) #showing classification matrix"
      ],
      "metadata": {
        "colab": {
          "base_uri": "https://localhost:8080/",
          "height": 279
        },
        "id": "vW1kslYg1rWR",
        "outputId": "08586d10-e245-4efc-b483-ebc7d7df3719"
      },
      "execution_count": 30,
      "outputs": [
        {
          "output_type": "display_data",
          "data": {
            "text/plain": [
              "<Figure size 432x288 with 2 Axes>"
            ],
            "image/png": "[encoded data removed]"
          },
          "metadata": {
            "needs_background": "light"
          }
        }
      ]
    }
  ]
}