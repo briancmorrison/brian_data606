{
  "cells": [
    {
      "cell_type": "markdown",
      "metadata": {
        "id": "sT-obyAmyDzU"
      },
      "source": [
        "#**Machine Learning for Digital Fraud Detection**\n",
        "###Comparing the Performance of Stacking Classifier & Deep Learning Models in Identifying Instances of Digital Transaction Fraud\n",
        "\n",
        "\n",
        "\n",
        "Brian Morrison\n",
        "\n",
        "DATA606 - Capstone Project in Data Science\n",
        "\n",
        "Professor Jay Wang\n",
        "\n",
        "The University of Maryland, Baltimore County"
      ]
    },
    {
      "cell_type": "markdown",
      "metadata": {
        "id": "KhdHqSxayGYN"
      },
      "source": [
        "##**Part Two - Ensemble Classification Model**"
      ]
    },
    {
      "cell_type": "markdown",
      "metadata": {
        "id": "s-gqv4OsyMmG"
      },
      "source": [
        "####**Introduction & Notebook Overview**\n",
        "\n",
        "The purpose of this notebook is to create, train, and evaluate an Emsemble Classification Model on our data. An Ensemble Classification Model is a machine learning model comprised of multiple smaller classifiers, in which the output of the preceding classifier is passsed as an input to the succeeding classifier, ending with a final classifier that outputs a class prediction. This notebook will use LazyPredict, a Python library for evaluating simple classifier performance, to guide selection of 3 classifiers to build a Stacking Model - a type of Ensemble Classification Model.  "
      ]
    },
    {
      "cell_type": "markdown",
      "metadata": {
        "id": "-xbqnmZYIF8g"
      },
      "source": [
        "####**Importing Data**"
      ]
    },
    {
      "cell_type": "markdown",
      "metadata": {
        "id": "lRqwnwKvo4dc"
      },
      "source": [
        "#####SMOTE Data"
      ]
    },
    {
      "cell_type": "code",
      "execution_count": null,
      "metadata": {
        "id": "Q-RzIAv5x9sI"
      },
      "outputs": [],
      "source": [
        "#we will start by reading in our data, stored in this project's GitHub repository - starting with the training data\n",
        "\n",
        "import numpy as np\n",
        "import pandas as pd\n",
        "\n",
        "SMOTE_train_df_dict = {} #instantiating blank dictionary to store dataframes\n",
        "SMOTE_train_df_list = ['SMOTE_train_data1', 'SMOTE_train_data2', 'SMOTE_train_data3']\n",
        "\n",
        "for df in SMOTE_train_df_list:\n",
        "  df_url = 'https://raw.githubusercontent.com/briancmorrison/brian_data606/main/Data/Cleaned/SMOTE/' + df + '.csv' #access url\n",
        "  df_name = 'SMOTE_train_df' + df[16]\n",
        "  SMOTE_train_df_dict[df_name] = pd.read_csv(df_url, index_col = 0)"
      ]
    },
    {
      "cell_type": "code",
      "execution_count": null,
      "metadata": {
        "colab": {
          "background_save": true
        },
        "id": "tIKtIPp3H8U1"
      },
      "outputs": [],
      "source": [
        "#reading in testing data\n",
        "\n",
        "test_url = 'https://raw.githubusercontent.com/briancmorrison/brian_data606/main/Data/Cleaned/test_data.csv'\n",
        "test_df = pd.read_csv(test_url)\n",
        "test_df = test_df.drop('Unnamed: 0', axis = 1) #removing first index column, which was carried over"
      ]
    },
    {
      "cell_type": "code",
      "execution_count": null,
      "metadata": {
        "colab": {
          "background_save": true
        },
        "id": "9cQdAvVe0IRj",
        "outputId": "36d1edb6-6f79-4a2a-d4a1-ca563059474c"
      },
      "outputs": [
        {
          "data": {
            "text/html": [
              "\n",
              "  <div id=\"df-aa6d4990-d0bb-41a6-9eec-99f2303b21c6\">\n",
              "    <div class=\"colab-df-container\">\n",
              "      <div>\n",
              "<style scoped>\n",
              "    .dataframe tbody tr th:only-of-type {\n",
              "        vertical-align: middle;\n",
              "    }\n",
              "\n",
              "    .dataframe tbody tr th {\n",
              "        vertical-align: top;\n",
              "    }\n",
              "\n",
              "    .dataframe thead th {\n",
              "        text-align: right;\n",
              "    }\n",
              "</style>\n",
              "<table border=\"1\" class=\"dataframe\">\n",
              "  <thead>\n",
              "    <tr style=\"text-align: right;\">\n",
              "      <th></th>\n",
              "      <th>TransactionAmt</th>\n",
              "      <th>C1</th>\n",
              "      <th>C2</th>\n",
              "      <th>C3</th>\n",
              "      <th>C4</th>\n",
              "      <th>C5</th>\n",
              "      <th>C6</th>\n",
              "      <th>C7</th>\n",
              "      <th>C8</th>\n",
              "      <th>C9</th>\n",
              "      <th>...</th>\n",
              "      <th>C12</th>\n",
              "      <th>C13</th>\n",
              "      <th>C14</th>\n",
              "      <th>C</th>\n",
              "      <th>H</th>\n",
              "      <th>R</th>\n",
              "      <th>S</th>\n",
              "      <th>W</th>\n",
              "      <th>TransactionDT_mmscaler</th>\n",
              "      <th>isFraud</th>\n",
              "    </tr>\n",
              "  </thead>\n",
              "  <tbody>\n",
              "    <tr>\n",
              "      <th>0</th>\n",
              "      <td>0.003656</td>\n",
              "      <td>0.000427</td>\n",
              "      <td>0.000351</td>\n",
              "      <td>0.0</td>\n",
              "      <td>0.000000</td>\n",
              "      <td>0.0</td>\n",
              "      <td>0.000888</td>\n",
              "      <td>0.000000</td>\n",
              "      <td>0.0000</td>\n",
              "      <td>0.014286</td>\n",
              "      <td>...</td>\n",
              "      <td>0.000000</td>\n",
              "      <td>0.004112</td>\n",
              "      <td>0.0014</td>\n",
              "      <td>0</td>\n",
              "      <td>0</td>\n",
              "      <td>0</td>\n",
              "      <td>0</td>\n",
              "      <td>1</td>\n",
              "      <td>0.532154</td>\n",
              "      <td>0</td>\n",
              "    </tr>\n",
              "    <tr>\n",
              "      <th>1</th>\n",
              "      <td>0.002355</td>\n",
              "      <td>0.000213</td>\n",
              "      <td>0.000176</td>\n",
              "      <td>0.0</td>\n",
              "      <td>0.000444</td>\n",
              "      <td>0.0</td>\n",
              "      <td>0.000444</td>\n",
              "      <td>0.000443</td>\n",
              "      <td>0.0003</td>\n",
              "      <td>0.000000</td>\n",
              "      <td>...</td>\n",
              "      <td>0.000314</td>\n",
              "      <td>0.000343</td>\n",
              "      <td>0.0007</td>\n",
              "      <td>1</td>\n",
              "      <td>0</td>\n",
              "      <td>0</td>\n",
              "      <td>0</td>\n",
              "      <td>0</td>\n",
              "      <td>0.038185</td>\n",
              "      <td>0</td>\n",
              "    </tr>\n",
              "    <tr>\n",
              "      <th>2</th>\n",
              "      <td>0.003029</td>\n",
              "      <td>0.000213</td>\n",
              "      <td>0.000176</td>\n",
              "      <td>0.0</td>\n",
              "      <td>0.000000</td>\n",
              "      <td>0.0</td>\n",
              "      <td>0.000444</td>\n",
              "      <td>0.000000</td>\n",
              "      <td>0.0000</td>\n",
              "      <td>0.004762</td>\n",
              "      <td>...</td>\n",
              "      <td>0.000000</td>\n",
              "      <td>0.000000</td>\n",
              "      <td>0.0000</td>\n",
              "      <td>0</td>\n",
              "      <td>0</td>\n",
              "      <td>0</td>\n",
              "      <td>0</td>\n",
              "      <td>1</td>\n",
              "      <td>0.048856</td>\n",
              "      <td>0</td>\n",
              "    </tr>\n",
              "    <tr>\n",
              "      <th>3</th>\n",
              "      <td>0.003342</td>\n",
              "      <td>0.000427</td>\n",
              "      <td>0.000176</td>\n",
              "      <td>0.0</td>\n",
              "      <td>0.000000</td>\n",
              "      <td>0.0</td>\n",
              "      <td>0.000888</td>\n",
              "      <td>0.000000</td>\n",
              "      <td>0.0000</td>\n",
              "      <td>0.009524</td>\n",
              "      <td>...</td>\n",
              "      <td>0.000000</td>\n",
              "      <td>0.001028</td>\n",
              "      <td>0.0014</td>\n",
              "      <td>0</td>\n",
              "      <td>0</td>\n",
              "      <td>0</td>\n",
              "      <td>0</td>\n",
              "      <td>1</td>\n",
              "      <td>0.536695</td>\n",
              "      <td>0</td>\n",
              "    </tr>\n",
              "    <tr>\n",
              "      <th>4</th>\n",
              "      <td>0.001558</td>\n",
              "      <td>0.000213</td>\n",
              "      <td>0.000176</td>\n",
              "      <td>0.0</td>\n",
              "      <td>0.000444</td>\n",
              "      <td>0.0</td>\n",
              "      <td>0.000444</td>\n",
              "      <td>0.000000</td>\n",
              "      <td>0.0003</td>\n",
              "      <td>0.000000</td>\n",
              "      <td>...</td>\n",
              "      <td>0.000000</td>\n",
              "      <td>0.000343</td>\n",
              "      <td>0.0007</td>\n",
              "      <td>0</td>\n",
              "      <td>1</td>\n",
              "      <td>0</td>\n",
              "      <td>0</td>\n",
              "      <td>0</td>\n",
              "      <td>0.251057</td>\n",
              "      <td>0</td>\n",
              "    </tr>\n",
              "  </tbody>\n",
              "</table>\n",
              "<p>5 rows × 22 columns</p>\n",
              "</div>\n",
              "      <button class=\"colab-df-convert\" onclick=\"convertToInteractive('df-aa6d4990-d0bb-41a6-9eec-99f2303b21c6')\"\n",
              "              title=\"Convert this dataframe to an interactive table.\"\n",
              "              style=\"display:none;\">\n",
              "        \n",
              "  <svg xmlns=\"http://www.w3.org/2000/svg\" height=\"24px\"viewBox=\"0 0 24 24\"\n",
              "       width=\"24px\">\n",
              "    <path d=\"M0 0h24v24H0V0z\" fill=\"none\"/>\n",
              "    <path d=\"M18.56 5.44l.94 2.06.94-2.06 2.06-.94-2.06-.94-.94-2.06-.94 2.06-2.06.94zm-11 1L8.5 8.5l.94-2.06 2.06-.94-2.06-.94L8.5 2.5l-.94 2.06-2.06.94zm10 10l.94 2.06.94-2.06 2.06-.94-2.06-.94-.94-2.06-.94 2.06-2.06.94z\"/><path d=\"M17.41 7.96l-1.37-1.37c-.4-.4-.92-.59-1.43-.59-.52 0-1.04.2-1.43.59L10.3 9.45l-7.72 7.72c-.78.78-.78 2.05 0 2.83L4 21.41c.39.39.9.59 1.41.59.51 0 1.02-.2 1.41-.59l7.78-7.78 2.81-2.81c.8-.78.8-2.07 0-2.86zM5.41 20L4 18.59l7.72-7.72 1.47 1.35L5.41 20z\"/>\n",
              "  </svg>\n",
              "      </button>\n",
              "      \n",
              "  <style>\n",
              "    .colab-df-container {\n",
              "      display:flex;\n",
              "      flex-wrap:wrap;\n",
              "      gap: 12px;\n",
              "    }\n",
              "\n",
              "    .colab-df-convert {\n",
              "      background-color: #E8F0FE;\n",
              "      border: none;\n",
              "      border-radius: 50%;\n",
              "      cursor: pointer;\n",
              "      display: none;\n",
              "      fill: #1967D2;\n",
              "      height: 32px;\n",
              "      padding: 0 0 0 0;\n",
              "      width: 32px;\n",
              "    }\n",
              "\n",
              "    .colab-df-convert:hover {\n",
              "      background-color: #E2EBFA;\n",
              "      box-shadow: 0px 1px 2px rgba(60, 64, 67, 0.3), 0px 1px 3px 1px rgba(60, 64, 67, 0.15);\n",
              "      fill: #174EA6;\n",
              "    }\n",
              "\n",
              "    [theme=dark] .colab-df-convert {\n",
              "      background-color: #3B4455;\n",
              "      fill: #D2E3FC;\n",
              "    }\n",
              "\n",
              "    [theme=dark] .colab-df-convert:hover {\n",
              "      background-color: #434B5C;\n",
              "      box-shadow: 0px 1px 3px 1px rgba(0, 0, 0, 0.15);\n",
              "      filter: drop-shadow(0px 1px 2px rgba(0, 0, 0, 0.3));\n",
              "      fill: #FFFFFF;\n",
              "    }\n",
              "  </style>\n",
              "\n",
              "      <script>\n",
              "        const buttonEl =\n",
              "          document.querySelector('#df-aa6d4990-d0bb-41a6-9eec-99f2303b21c6 button.colab-df-convert');\n",
              "        buttonEl.style.display =\n",
              "          google.colab.kernel.accessAllowed ? 'block' : 'none';\n",
              "\n",
              "        async function convertToInteractive(key) {\n",
              "          const element = document.querySelector('#df-aa6d4990-d0bb-41a6-9eec-99f2303b21c6');\n",
              "          const dataTable =\n",
              "            await google.colab.kernel.invokeFunction('convertToInteractive',\n",
              "                                                     [key], {});\n",
              "          if (!dataTable) return;\n",
              "\n",
              "          const docLinkHtml = 'Like what you see? Visit the ' +\n",
              "            '<a target=\"_blank\" href=https://colab.research.google.com/notebooks/data_table.ipynb>data table notebook</a>'\n",
              "            + ' to learn more about interactive tables.';\n",
              "          element.innerHTML = '';\n",
              "          dataTable['output_type'] = 'display_data';\n",
              "          await google.colab.output.renderOutput(dataTable, element);\n",
              "          const docLink = document.createElement('div');\n",
              "          docLink.innerHTML = docLinkHtml;\n",
              "          element.appendChild(docLink);\n",
              "        }\n",
              "      </script>\n",
              "    </div>\n",
              "  </div>\n",
              "  "
            ],
            "text/plain": [
              "   TransactionAmt        C1        C2   C3        C4   C5        C6        C7  \\\n",
              "0        0.003656  0.000427  0.000351  0.0  0.000000  0.0  0.000888  0.000000   \n",
              "1        0.002355  0.000213  0.000176  0.0  0.000444  0.0  0.000444  0.000443   \n",
              "2        0.003029  0.000213  0.000176  0.0  0.000000  0.0  0.000444  0.000000   \n",
              "3        0.003342  0.000427  0.000176  0.0  0.000000  0.0  0.000888  0.000000   \n",
              "4        0.001558  0.000213  0.000176  0.0  0.000444  0.0  0.000444  0.000000   \n",
              "\n",
              "       C8        C9  ...       C12       C13     C14  C  H  R  S  W  \\\n",
              "0  0.0000  0.014286  ...  0.000000  0.004112  0.0014  0  0  0  0  1   \n",
              "1  0.0003  0.000000  ...  0.000314  0.000343  0.0007  1  0  0  0  0   \n",
              "2  0.0000  0.004762  ...  0.000000  0.000000  0.0000  0  0  0  0  1   \n",
              "3  0.0000  0.009524  ...  0.000000  0.001028  0.0014  0  0  0  0  1   \n",
              "4  0.0003  0.000000  ...  0.000000  0.000343  0.0007  0  1  0  0  0   \n",
              "\n",
              "   TransactionDT_mmscaler  isFraud  \n",
              "0                0.532154        0  \n",
              "1                0.038185        0  \n",
              "2                0.048856        0  \n",
              "3                0.536695        0  \n",
              "4                0.251057        0  \n",
              "\n",
              "[5 rows x 22 columns]"
            ]
          },
          "execution_count": 3,
          "metadata": {},
          "output_type": "execute_result"
        }
      ],
      "source": [
        "#we can now concatenate the partitioned data\n",
        "\n",
        "SMOTE_train_df = pd.concat(SMOTE_train_df_dict.values(), ignore_index = True)\n",
        "SMOTE_train_df.head()"
      ]
    },
    {
      "cell_type": "code",
      "execution_count": null,
      "metadata": {
        "colab": {
          "background_save": true
        },
        "id": "m6hLidDRKJhb",
        "outputId": "3142e1c9-4e40-4203-89bd-19628a92526d"
      },
      "outputs": [
        {
          "data": {
            "text/plain": [
              "797828"
            ]
          },
          "execution_count": 4,
          "metadata": {},
          "output_type": "execute_result"
        }
      ],
      "source": [
        "len(SMOTE_train_df)"
      ]
    },
    {
      "cell_type": "markdown",
      "metadata": {
        "id": "ShY9Gv0RpQM1"
      },
      "source": [
        "#####ROS Data"
      ]
    },
    {
      "cell_type": "code",
      "execution_count": null,
      "metadata": {
        "id": "z2Mt5y8BpVwX"
      },
      "outputs": [],
      "source": [
        "ROS_train_df_dict = {} \n",
        "ROS_train_df_list = ['ROS_train_data1', 'ROS_train_data2', 'ROS_train_data3']\n",
        "\n",
        "for df in ROS_train_df_list:\n",
        "  df_url = 'https://raw.githubusercontent.com/briancmorrison/brian_data606/main/Data/Cleaned/ROS/' + df + '.csv' \n",
        "  df_name = 'ROS_train_df' + df[14]\n",
        "  ROS_train_df_dict[df_name] = pd.read_csv(df_url, index_col = 0)"
      ]
    },
    {
      "cell_type": "code",
      "execution_count": null,
      "metadata": {
        "id": "JCdKK0JKpYY2"
      },
      "outputs": [],
      "source": [
        "ROS_train_df = pd.concat(ROS_train_df_dict.values(), ignore_index = True)\n",
        "ROS_train_df.head()"
      ]
    },
    {
      "cell_type": "code",
      "execution_count": null,
      "metadata": {
        "id": "n9rasaMFpaet"
      },
      "outputs": [],
      "source": [
        "len(ROS_train_df)"
      ]
    },
    {
      "cell_type": "markdown",
      "metadata": {
        "id": "cUdDUnqIKW2v"
      },
      "source": [
        "####**Defining Variables & Splitting Data**"
      ]
    },
    {
      "cell_type": "code",
      "execution_count": null,
      "metadata": {
        "id": "fBB9rgByQS8q"
      },
      "outputs": [],
      "source": [
        "y_train_SMOTE = SMOTE_train_df.pop('isFraud')\n",
        "X_train_SMOTE = SMOTE_train_df.to_numpy()\n",
        "\n",
        "y_train_ROS = ROS_train_df.pop('isFraud')\n",
        "X_train_ROS = ROS_train_df.to_numpy()\n",
        "\n",
        "y_test = test_df.pop('isFraud')\n",
        "X_test = test_df.to_numpy()"
      ]
    },
    {
      "cell_type": "code",
      "execution_count": null,
      "metadata": {
        "id": "i_y4xx7uRFS8"
      },
      "outputs": [],
      "source": [
        "from sklearn.model_selection import train_test_split\n",
        "\n",
        "#splitting one of the smaller dataframes to use to evaluate classifiers\n",
        "X_train_small = ROS_train_df_dict['ROS_train_df1'][:30000] #subset of rows due to RAM limitations\n",
        "y_train_small = X_train_small['isFraud']\n",
        "\n",
        "X_eval_train, X_eval_test, y_eval_train, y_eval_test = train_test_split(X_train_small, y_train_small, test_size = .3, random_state = 4)"
      ]
    },
    {
      "cell_type": "code",
      "execution_count": null,
      "metadata": {
        "colab": {
          "base_uri": "https://localhost:8080/"
        },
        "id": "na4-UyaCxejC",
        "outputId": "00fbc581-9f59-4ecf-f785-ea7254af7843"
      },
      "outputs": [
        {
          "data": {
            "text/plain": [
              "0    28953\n",
              "1     1047\n",
              "Name: isFraud, dtype: int64"
            ]
          },
          "execution_count": 10,
          "metadata": {},
          "output_type": "execute_result"
        }
      ],
      "source": [
        "y_train_small.value_counts()"
      ]
    },
    {
      "cell_type": "code",
      "execution_count": null,
      "metadata": {
        "id": "Se8bJbifpjHU"
      },
      "outputs": [],
      "source": [
        "del SMOTE_train_df_dict\n",
        "del ROS_train_df_dict"
      ]
    },
    {
      "cell_type": "markdown",
      "metadata": {
        "id": "4e6flcjuKoD8"
      },
      "source": [
        "####**Using LazyPredict to Select Classifiers**"
      ]
    },
    {
      "cell_type": "code",
      "execution_count": null,
      "metadata": {
        "colab": {
          "base_uri": "https://localhost:8080/",
          "height": 1000
        },
        "id": "dYQrficyNkmB",
        "outputId": "e5421c39-41a5-4152-e402-f27b6fc741f4"
      },
      "outputs": [
        {
          "name": "stdout",
          "output_type": "stream",
          "text": [
            "Found existing installation: scikit-learn 1.0.2\n",
            "Uninstalling scikit-learn-1.0.2:\n",
            "  Successfully uninstalled scikit-learn-1.0.2\n",
            "Looking in indexes: https://pypi.org/simple, https://us-python.pkg.dev/colab-wheels/public/simple/\n",
            "Collecting scikit-learn==0.24\n",
            "  Downloading scikit_learn-0.24.0-cp37-cp37m-manylinux2010_x86_64.whl (22.3 MB)\n",
            "\u001b[K     |████████████████████████████████| 22.3 MB 1.5 MB/s \n",
            "\u001b[?25hRequirement already satisfied: joblib>=0.11 in /usr/local/lib/python3.7/dist-packages (from scikit-learn==0.24) (1.1.0)\n",
            "Requirement already satisfied: scipy>=0.19.1 in /usr/local/lib/python3.7/dist-packages (from scikit-learn==0.24) (1.7.3)\n",
            "Requirement already satisfied: threadpoolctl>=2.0.0 in /usr/local/lib/python3.7/dist-packages (from scikit-learn==0.24) (3.1.0)\n",
            "Requirement already satisfied: numpy>=1.13.3 in /usr/local/lib/python3.7/dist-packages (from scikit-learn==0.24) (1.21.6)\n",
            "Installing collected packages: scikit-learn\n",
            "\u001b[31mERROR: pip's dependency resolver does not currently take into account all the packages that are installed. This behaviour is the source of the following dependency conflicts.\n",
            "yellowbrick 1.4 requires scikit-learn>=1.0.0, but you have scikit-learn 0.24.0 which is incompatible.\u001b[0m\n",
            "Successfully installed scikit-learn-0.24.0\n"
          ]
        },
        {
          "data": {
            "application/vnd.colab-display-data+json": {
              "pip_warning": {
                "packages": [
                  "sklearn"
                ]
              }
            }
          },
          "metadata": {},
          "output_type": "display_data"
        },
        {
          "name": "stdout",
          "output_type": "stream",
          "text": [
            "Looking in indexes: https://pypi.org/simple, https://us-python.pkg.dev/colab-wheels/public/simple/\n",
            "Collecting lazypredict\n",
            "  Downloading lazypredict-0.2.9-py2.py3-none-any.whl (12 kB)\n",
            "Collecting pandas==1.0.5\n",
            "  Downloading pandas-1.0.5-cp37-cp37m-manylinux1_x86_64.whl (10.1 MB)\n",
            "\u001b[K     |████████████████████████████████| 10.1 MB 4.2 MB/s \n",
            "\u001b[?25hRequirement already satisfied: six==1.15.0 in /usr/local/lib/python3.7/dist-packages (from lazypredict) (1.15.0)\n",
            "Collecting scikit-learn==0.23.1\n",
            "  Downloading scikit_learn-0.23.1-cp37-cp37m-manylinux1_x86_64.whl (6.8 MB)\n",
            "\u001b[K     |████████████████████████████████| 6.8 MB 2.3 MB/s \n",
            "\u001b[?25hRequirement already satisfied: click==7.1.2 in /usr/local/lib/python3.7/dist-packages (from lazypredict) (7.1.2)\n",
            "Collecting PyYAML==5.3.1\n",
            "  Downloading PyYAML-5.3.1.tar.gz (269 kB)\n",
            "\u001b[K     |████████████████████████████████| 269 kB 55.0 MB/s \n",
            "\u001b[?25hCollecting scipy==1.5.4\n",
            "  Downloading scipy-1.5.4-cp37-cp37m-manylinux1_x86_64.whl (25.9 MB)\n",
            "\u001b[K     |████████████████████████████████| 25.9 MB 1.2 MB/s \n",
            "\u001b[?25hCollecting lightgbm==2.3.1\n",
            "  Downloading lightgbm-2.3.1-py2.py3-none-manylinux1_x86_64.whl (1.2 MB)\n",
            "\u001b[K     |████████████████████████████████| 1.2 MB 53.0 MB/s \n",
            "\u001b[?25hCollecting tqdm==4.56.0\n",
            "  Downloading tqdm-4.56.0-py2.py3-none-any.whl (72 kB)\n",
            "\u001b[K     |████████████████████████████████| 72 kB 902 kB/s \n",
            "\u001b[?25hCollecting numpy==1.19.1\n",
            "  Downloading numpy-1.19.1-cp37-cp37m-manylinux2010_x86_64.whl (14.5 MB)\n",
            "\u001b[K     |████████████████████████████████| 14.5 MB 4.8 MB/s \n",
            "\u001b[?25hCollecting pytest==5.4.3\n",
            "  Downloading pytest-5.4.3-py3-none-any.whl (248 kB)\n",
            "\u001b[K     |████████████████████████████████| 248 kB 60.1 MB/s \n",
            "\u001b[?25hCollecting joblib==1.0.0\n",
            "  Downloading joblib-1.0.0-py3-none-any.whl (302 kB)\n",
            "\u001b[K     |████████████████████████████████| 302 kB 45.3 MB/s \n",
            "\u001b[?25hCollecting xgboost==1.1.1\n",
            "  Downloading xgboost-1.1.1-py3-none-manylinux2010_x86_64.whl (127.6 MB)\n",
            "\u001b[K     |████████████████████████████████| 127.6 MB 22 kB/s \n",
            "\u001b[?25hRequirement already satisfied: python-dateutil>=2.6.1 in /usr/local/lib/python3.7/dist-packages (from pandas==1.0.5->lazypredict) (2.8.2)\n",
            "Requirement already satisfied: pytz>=2017.2 in /usr/local/lib/python3.7/dist-packages (from pandas==1.0.5->lazypredict) (2022.1)\n",
            "Requirement already satisfied: packaging in /usr/local/lib/python3.7/dist-packages (from pytest==5.4.3->lazypredict) (21.3)\n",
            "Requirement already satisfied: importlib-metadata>=0.12 in /usr/local/lib/python3.7/dist-packages (from pytest==5.4.3->lazypredict) (4.12.0)\n",
            "Requirement already satisfied: attrs>=17.4.0 in /usr/local/lib/python3.7/dist-packages (from pytest==5.4.3->lazypredict) (22.1.0)\n",
            "Requirement already satisfied: py>=1.5.0 in /usr/local/lib/python3.7/dist-packages (from pytest==5.4.3->lazypredict) (1.11.0)\n",
            "Requirement already satisfied: wcwidth in /usr/local/lib/python3.7/dist-packages (from pytest==5.4.3->lazypredict) (0.2.5)\n",
            "Requirement already satisfied: more-itertools>=4.0.0 in /usr/local/lib/python3.7/dist-packages (from pytest==5.4.3->lazypredict) (8.13.0)\n",
            "Collecting pluggy<1.0,>=0.12\n",
            "  Downloading pluggy-0.13.1-py2.py3-none-any.whl (18 kB)\n",
            "Requirement already satisfied: threadpoolctl>=2.0.0 in /usr/local/lib/python3.7/dist-packages (from scikit-learn==0.23.1->lazypredict) (3.1.0)\n",
            "Requirement already satisfied: typing-extensions>=3.6.4 in /usr/local/lib/python3.7/dist-packages (from importlib-metadata>=0.12->pytest==5.4.3->lazypredict) (4.1.1)\n",
            "Requirement already satisfied: zipp>=0.5 in /usr/local/lib/python3.7/dist-packages (from importlib-metadata>=0.12->pytest==5.4.3->lazypredict) (3.8.1)\n",
            "Requirement already satisfied: pyparsing!=3.0.5,>=2.0.2 in /usr/local/lib/python3.7/dist-packages (from packaging->pytest==5.4.3->lazypredict) (3.0.9)\n",
            "Building wheels for collected packages: PyYAML\n",
            "  Building wheel for PyYAML (setup.py) ... \u001b[?25l\u001b[?25hdone\n",
            "  Created wheel for PyYAML: filename=PyYAML-5.3.1-cp37-cp37m-linux_x86_64.whl size=44636 sha256=6ccb0ac851e25c2c83ae2b94bf5174a6da9e8d3825658131b328da9c05d89228\n",
            "  Stored in directory: /root/.cache/pip/wheels/5e/03/1e/e1e954795d6f35dfc7b637fe2277bff021303bd9570ecea653\n",
            "Successfully built PyYAML\n",
            "Installing collected packages: numpy, scipy, joblib, scikit-learn, pluggy, xgboost, tqdm, PyYAML, pytest, pandas, lightgbm, lazypredict\n",
            "  Attempting uninstall: numpy\n",
            "    Found existing installation: numpy 1.21.6\n",
            "    Uninstalling numpy-1.21.6:\n",
            "      Successfully uninstalled numpy-1.21.6\n",
            "  Attempting uninstall: scipy\n",
            "    Found existing installation: scipy 1.7.3\n",
            "    Uninstalling scipy-1.7.3:\n",
            "      Successfully uninstalled scipy-1.7.3\n",
            "  Attempting uninstall: joblib\n",
            "    Found existing installation: joblib 1.1.0\n",
            "    Uninstalling joblib-1.1.0:\n",
            "      Successfully uninstalled joblib-1.1.0\n",
            "  Attempting uninstall: scikit-learn\n",
            "    Found existing installation: scikit-learn 0.24.0\n",
            "    Uninstalling scikit-learn-0.24.0:\n",
            "      Successfully uninstalled scikit-learn-0.24.0\n",
            "  Attempting uninstall: pluggy\n",
            "    Found existing installation: pluggy 0.7.1\n",
            "    Uninstalling pluggy-0.7.1:\n",
            "      Successfully uninstalled pluggy-0.7.1\n",
            "  Attempting uninstall: xgboost\n",
            "    Found existing installation: xgboost 0.90\n",
            "    Uninstalling xgboost-0.90:\n",
            "      Successfully uninstalled xgboost-0.90\n",
            "  Attempting uninstall: tqdm\n",
            "    Found existing installation: tqdm 4.64.0\n",
            "    Uninstalling tqdm-4.64.0:\n",
            "      Successfully uninstalled tqdm-4.64.0\n",
            "  Attempting uninstall: PyYAML\n",
            "    Found existing installation: PyYAML 3.13\n",
            "    Uninstalling PyYAML-3.13:\n",
            "      Successfully uninstalled PyYAML-3.13\n",
            "  Attempting uninstall: pytest\n",
            "    Found existing installation: pytest 3.6.4\n",
            "    Uninstalling pytest-3.6.4:\n",
            "      Successfully uninstalled pytest-3.6.4\n",
            "  Attempting uninstall: pandas\n",
            "    Found existing installation: pandas 1.3.5\n",
            "    Uninstalling pandas-1.3.5:\n",
            "      Successfully uninstalled pandas-1.3.5\n",
            "  Attempting uninstall: lightgbm\n",
            "    Found existing installation: lightgbm 2.2.3\n",
            "    Uninstalling lightgbm-2.2.3:\n",
            "      Successfully uninstalled lightgbm-2.2.3\n",
            "\u001b[31mERROR: pip's dependency resolver does not currently take into account all the packages that are installed. This behaviour is the source of the following dependency conflicts.\n",
            "yellowbrick 1.4 requires scikit-learn>=1.0.0, but you have scikit-learn 0.23.1 which is incompatible.\n",
            "xarray 0.20.2 requires pandas>=1.1, but you have pandas 1.0.5 which is incompatible.\n",
            "xarray-einstats 0.2.2 requires numpy>=1.21, but you have numpy 1.19.1 which is incompatible.\n",
            "tensorflow 2.8.2+zzzcolab20220719082949 requires numpy>=1.20, but you have numpy 1.19.1 which is incompatible.\n",
            "pymc3 3.11.5 requires scipy<1.8.0,>=1.7.3, but you have scipy 1.5.4 which is incompatible.\n",
            "imbalanced-learn 0.8.1 requires scikit-learn>=0.24, but you have scikit-learn 0.23.1 which is incompatible.\n",
            "google-colab 1.0.0 requires pandas>=1.1.0, but you have pandas 1.0.5 which is incompatible.\n",
            "cmdstanpy 1.0.4 requires numpy>=1.21, but you have numpy 1.19.1 which is incompatible.\u001b[0m\n",
            "Successfully installed PyYAML-5.3.1 joblib-1.0.0 lazypredict-0.2.9 lightgbm-2.3.1 numpy-1.19.1 pandas-1.0.5 pluggy-0.13.1 pytest-5.4.3 scikit-learn-0.23.1 scipy-1.5.4 tqdm-4.56.0 xgboost-1.1.1\n"
          ]
        },
        {
          "data": {
            "application/vnd.colab-display-data+json": {
              "pip_warning": {
                "packages": [
                  "joblib",
                  "numpy",
                  "pandas",
                  "scipy",
                  "sklearn"
                ]
              }
            }
          },
          "metadata": {},
          "output_type": "display_data"
        }
      ],
      "source": [
        "!pip uninstall scikit-learn -y \n",
        "!pip install scikit-learn==0.24 #updating scikit-learn version, per lazypredict requirements\n",
        "\n",
        "!pip install lazypredict #grabbing lazypredict from command line\n",
        "\n",
        "#Reference link: https://github.com/shankarpandala/lazypredict/blob/3d62db32c0058039fcde9a2322d7e88d13473bb3/requirements.txt#L8"
      ]
    },
    {
      "cell_type": "code",
      "execution_count": null,
      "metadata": {
        "colab": {
          "base_uri": "https://localhost:8080/"
        },
        "id": "5RUjFZzrPRGU",
        "outputId": "98ca458a-7b31-440d-f57a-3255f5d1829a"
      },
      "outputs": [
        {
          "name": "stderr",
          "output_type": "stream",
          "text": [
            "/usr/local/lib/python3.7/dist-packages/sklearn/utils/deprecation.py:143: FutureWarning: The sklearn.utils.testing module is  deprecated in version 0.22 and will be removed in version 0.24. The corresponding classes / functions should instead be imported from sklearn.utils. Anything that cannot be imported from sklearn.utils is now part of the private API.\n",
            "  warnings.warn(message, FutureWarning)\n"
          ]
        }
      ],
      "source": [
        "import lazypredict\n",
        "from lazypredict.Supervised import LazyClassifier\n",
        "\n",
        "LazyC = LazyClassifier(verbose = 0, ignore_warnings = True, custom_metric = None) #instantiating Lazy Classifier object"
      ]
    },
    {
      "cell_type": "code",
      "execution_count": null,
      "metadata": {
        "colab": {
          "base_uri": "https://localhost:8080/"
        },
        "id": "O_RZaL56QnIC",
        "outputId": "c2b2cc64-d37c-49f1-d059-ec741053d8f3"
      },
      "outputs": [
        {
          "name": "stderr",
          "output_type": "stream",
          "text": [
            "100%|██████████| 29/29 [01:34<00:00,  3.26s/it]"
          ]
        },
        {
          "name": "stdout",
          "output_type": "stream",
          "text": [
            "                               Accuracy  Balanced Accuracy  ROC AUC  F1 Score  \\\n",
            "Model                                                                           \n",
            "AdaBoostClassifier                 1.00               1.00     1.00      1.00   \n",
            "LinearDiscriminantAnalysis         1.00               1.00     1.00      1.00   \n",
            "XGBClassifier                      1.00               1.00     1.00      1.00   \n",
            "SGDClassifier                      1.00               1.00     1.00      1.00   \n",
            "RidgeClassifierCV                  1.00               1.00     1.00      1.00   \n",
            "RidgeClassifier                    1.00               1.00     1.00      1.00   \n",
            "RandomForestClassifier             1.00               1.00     1.00      1.00   \n",
            "QuadraticDiscriminantAnalysis      1.00               1.00     1.00      1.00   \n",
            "Perceptron                         1.00               1.00     1.00      1.00   \n",
            "PassiveAggressiveClassifier        1.00               1.00     1.00      1.00   \n",
            "LogisticRegression                 1.00               1.00     1.00      1.00   \n",
            "BaggingClassifier                  1.00               1.00     1.00      1.00   \n",
            "LinearSVC                          1.00               1.00     1.00      1.00   \n",
            "GaussianNB                         1.00               1.00     1.00      1.00   \n",
            "ExtraTreesClassifier               1.00               1.00     1.00      1.00   \n",
            "DecisionTreeClassifier             1.00               1.00     1.00      1.00   \n",
            "CalibratedClassifierCV             1.00               1.00     1.00      1.00   \n",
            "LGBMClassifier                     1.00               1.00     1.00      1.00   \n",
            "NearestCentroid                    1.00               1.00     1.00      1.00   \n",
            "BernoulliNB                        0.99               1.00     1.00      0.99   \n",
            "LabelSpreading                     1.00               0.99     0.99      1.00   \n",
            "LabelPropagation                   1.00               0.99     0.99      1.00   \n",
            "SVC                                1.00               0.99     0.99      1.00   \n",
            "KNeighborsClassifier               1.00               0.99     0.99      1.00   \n",
            "ExtraTreeClassifier                1.00               0.99     0.99      1.00   \n",
            "DummyClassifier                    0.93               0.50     0.50      0.93   \n",
            "\n",
            "                               Time Taken  \n",
            "Model                                      \n",
            "AdaBoostClassifier                   0.15  \n",
            "LinearDiscriminantAnalysis           0.23  \n",
            "XGBClassifier                        1.22  \n",
            "SGDClassifier                        0.14  \n",
            "RidgeClassifierCV                    0.14  \n",
            "RidgeClassifier                      0.10  \n",
            "RandomForestClassifier               1.18  \n",
            "QuadraticDiscriminantAnalysis        0.15  \n",
            "Perceptron                           0.12  \n",
            "PassiveAggressiveClassifier          0.10  \n",
            "LogisticRegression                   0.27  \n",
            "BaggingClassifier                    0.39  \n",
            "LinearSVC                            4.97  \n",
            "GaussianNB                           0.07  \n",
            "ExtraTreesClassifier                 0.67  \n",
            "DecisionTreeClassifier               0.08  \n",
            "CalibratedClassifierCV              22.47  \n",
            "LGBMClassifier                       0.45  \n",
            "NearestCentroid                      0.08  \n",
            "BernoulliNB                          0.18  \n",
            "LabelSpreading                      35.35  \n",
            "LabelPropagation                    20.44  \n",
            "SVC                                  0.39  \n",
            "KNeighborsClassifier                 4.77  \n",
            "ExtraTreeClassifier                  0.06  \n",
            "DummyClassifier                      0.06  \n"
          ]
        },
        {
          "name": "stderr",
          "output_type": "stream",
          "text": [
            "\n"
          ]
        }
      ],
      "source": [
        "classifiers, preds = LazyC.fit(X_eval_train, X_eval_test, y_eval_train, y_eval_test)\n",
        "print(classifiers)"
      ]
    },
    {
      "cell_type": "markdown",
      "metadata": {
        "id": "YpNRLV0vaUvp"
      },
      "source": [
        "####**Building Stacking (Ensemble) Classifier**"
      ]
    },
    {
      "cell_type": "markdown",
      "metadata": {
        "id": "0Q2ARLHhzZW6"
      },
      "source": [
        "Now that we have evaluated several simple classifiers for their effectiveness, we can progress on to constructing a Stacking Classifier compromised of the top performers. For this project, we will select the 3 first listed models from the highest scoring group - AdaBoost Classifier, Linear Discriminant Analysis or LDA, and XGB Classifer - to comprise our final model. Additionally, a Logisitic Regression model will be used as the final, authoritative estimator to output a final class label prediction. \n",
        "\n",
        "A brief description of the models comprising the Stacking Classifier:\n",
        "\n",
        "* *AdaBoost Classifier* - Adaptive Boosting, or AdaBoost, is a model that itself is an Ensemble Classifier, fitting multiple \"weak learners\" in succession and reconciling the incorrect predictions made by preceding models to improve those later in the chain. Generally, AdaBoost models are comprised of multiple shallow tree-based models which individually hold limited validity as classifiers.\n",
        "* *Linear Discriminant Analysis* - Linear Discriminant Analysis, or LDA, is linear approach to classification that is also widely leveraged as an approach to dimensionality reduction, similar to PCA. It is effective at projecting features into lower dimensional spaces and identifying linear separations between classes where they exist.\n",
        "* *XGBoost Classifier* - Extreme Gradient Boosting, or XGBoost, is a popular implementation of gradient-boosted decision trees that, similar to AdaBoost, is comprised of multiple weak learning classifiers. The model uses a gradient descent algorithm to minimize the loss function among later models, identifying areas of descent along the loss convex that might indicate an absolute minimum. "
      ]
    },
    {
      "cell_type": "code",
      "execution_count": null,
      "metadata": {
        "id": "YK7PPE9TaYMW"
      },
      "outputs": [],
      "source": [
        "from sklearn.ensemble import StackingClassifier\n",
        "from sklearn.ensemble import AdaBoostClassifier\n",
        "from sklearn.discriminant_analysis import LinearDiscriminantAnalysis\n",
        "import xgboost as xgb\n",
        "from sklearn.linear_model import LogisticRegression\n",
        "\n",
        "abc = AdaBoostClassifier()\n",
        "lda = LinearDiscriminantAnalysis()\n",
        "xgb = xgb.XGBClassifier()\n",
        "\n",
        "classifiers = [('adaboost', abc), ('lda', lda), ('xgboost', xgb)]\n",
        "\n",
        "stack = StackingClassifier(classifiers, final_estimator = LogisticRegression())"
      ]
    },
    {
      "cell_type": "markdown",
      "metadata": {
        "id": "lR23i5fRHG0k"
      },
      "source": [
        "####**Model Fitting & Evaluation**"
      ]
    },
    {
      "cell_type": "markdown",
      "metadata": {
        "id": "VLWfoj4wfQZo"
      },
      "source": [
        "#####SMOTE"
      ]
    },
    {
      "cell_type": "code",
      "execution_count": null,
      "metadata": {
        "colab": {
          "base_uri": "https://localhost:8080/"
        },
        "id": "EBSKaSZdp9-E",
        "outputId": "42b45437-ffb8-4f9e-9834-4a8eb09944a9"
      },
      "outputs": [
        {
          "data": {
            "text/plain": [
              "0.9035042640769689"
            ]
          },
          "execution_count": 13,
          "metadata": {},
          "output_type": "execute_result"
        }
      ],
      "source": [
        "SMOTE_stack_fit = stack.fit(X_train_SMOTE, y_train_SMOTE) #fitting the model to our training data\n",
        "\n",
        "SMOTE_stack_fit.score(X_train_SMOTE, y_train_SMOTE)"
      ]
    },
    {
      "cell_type": "markdown",
      "metadata": {
        "id": "kdn1b-2N_7Iz"
      },
      "source": [
        "At first glance, it looks like our model performed exceptionally well with our training data! However, accuracy scores can be misleading in cases of binary classification, as even a model outputting a single class label could be correct in a substantial number of cases in sufficiently imbalanced datasets. Using classifiation reports, we may be able to understand these results better."
      ]
    },
    {
      "cell_type": "code",
      "execution_count": null,
      "metadata": {
        "colab": {
          "base_uri": "https://localhost:8080/"
        },
        "id": "3zWjyZ8K_1k9",
        "outputId": "1febf90d-054d-4bab-c807-2ea7c710df98"
      },
      "outputs": [
        {
          "name": "stdout",
          "output_type": "stream",
          "text": [
            "              precision    recall  f1-score   support\n",
            "\n",
            "           0       0.93      0.98      0.96    162622\n",
            "           1       0.54      0.23      0.32     14540\n",
            "\n",
            "    accuracy                           0.92    177162\n",
            "   macro avg       0.74      0.61      0.64    177162\n",
            "weighted avg       0.90      0.92      0.91    177162\n",
            "\n"
          ]
        }
      ],
      "source": [
        "from sklearn.metrics import classification_report\n",
        "from sklearn.model_selection import cross_val_predict\n",
        "\n",
        "predictions = SMOTE_stack_fit.predict(X_test) #generating predictions\n",
        "print(classification_report(predictions, y_test)) # generating classification report to assess utility of classifier"
      ]
    },
    {
      "cell_type": "code",
      "execution_count": null,
      "metadata": {
        "id": "_2-v_dk-GaGF"
      },
      "outputs": [],
      "source": [
        "from sklearn.metrics import confusion_matrix\n",
        "import matplotlib.pyplot as plt\n",
        "import seaborn as sns\n",
        "\n",
        "def show_classification_matrix(y_true, y_pred): #using a helper function retrieved from DATA602 lecture notes to build the classification matrix\n",
        "  cm = confusion_matrix(y_true, y_pred)\n",
        "  sns.heatmap(cm, annot = True, fmt = \"0\")\n",
        "  ax = plt.gca()\n",
        "  ax.set_xlabel(\"Predicted\")\n",
        "  ax.set_ylabel(\"Actual\")"
      ]
    },
    {
      "cell_type": "code",
      "execution_count": null,
      "metadata": {
        "colab": {
          "base_uri": "https://localhost:8080/",
          "height": 279
        },
        "id": "kr-V_aIqGw5_",
        "outputId": "66531883-ae65-4460-b6c7-6d8fe5c9e0f1"
      },
      "outputs": [
        {
          "data": {
            "image/png": "[encoded data removed]",
            "text/plain": [
              "<Figure size 432x288 with 2 Axes>"
            ]
          },
          "metadata": {},
          "output_type": "display_data"
        }
      ],
      "source": [
        "show_classification_matrix(y_test, predictions) #employing our classification matrix function"
      ]
    },
    {
      "cell_type": "markdown",
      "metadata": {
        "id": "AngpJ_4nqUKO"
      },
      "source": [
        "#####ROS"
      ]
    },
    {
      "cell_type": "code",
      "execution_count": null,
      "metadata": {
        "colab": {
          "base_uri": "https://localhost:8080/"
        },
        "id": "g-hfXAOCqU97",
        "outputId": "d5efc382-aa82-4eb4-e2ec-9bfc59174759"
      },
      "outputs": [
        {
          "data": {
            "text/plain": [
              "0.7843921246183387"
            ]
          },
          "execution_count": 17,
          "metadata": {},
          "output_type": "execute_result"
        }
      ],
      "source": [
        "ROS_stack_fit = stack.fit(X_train_ROS, y_train_ROS) #fitting the model to our training data\n",
        "\n",
        "ROS_stack_fit.score(X_train_ROS, y_train_ROS)"
      ]
    },
    {
      "cell_type": "code",
      "execution_count": null,
      "metadata": {
        "colab": {
          "base_uri": "https://localhost:8080/"
        },
        "id": "OJOvQcRvqcRu",
        "outputId": "f8622d4e-cfc8-45bc-f020-8d0e12e232f9"
      },
      "outputs": [
        {
          "name": "stdout",
          "output_type": "stream",
          "text": [
            "              precision    recall  f1-score   support\n",
            "\n",
            "           0       0.83      0.99      0.90    144297\n",
            "           1       0.73      0.14      0.23     32865\n",
            "\n",
            "    accuracy                           0.83    177162\n",
            "   macro avg       0.78      0.56      0.57    177162\n",
            "weighted avg       0.81      0.83      0.78    177162\n",
            "\n"
          ]
        }
      ],
      "source": [
        "predictions = ROS_stack_fit.predict(X_test) #generating predictions\n",
        "print(classification_report(predictions, y_test)) # generating classification report to assess utility of classifier"
      ]
    },
    {
      "cell_type": "code",
      "execution_count": null,
      "metadata": {
        "colab": {
          "base_uri": "https://localhost:8080/",
          "height": 279
        },
        "id": "q9-E1bAJqgzK",
        "outputId": "692860d8-bf4e-4c8a-a1d6-a115ae4cc108"
      },
      "outputs": [
        {
          "data": {
            "image/png": "[encoded data removed]",
            "text/plain": [
              "<Figure size 432x288 with 2 Axes>"
            ]
          },
          "metadata": {},
          "output_type": "display_data"
        }
      ],
      "source": [
        "show_classification_matrix(y_test, predictions) #employing our classification matrix function"
      ]
    }
  ],
  "metadata": {
    "colab": {
      "name": "DATA606 - 2 - Ensemble Classification Model.ipynb",
      "provenance": [],
      "authorship_tag": "ABX9TyP7d7xYzBWSGI5Ec0BQtsio"
    },
    "kernelspec": {
      "display_name": "Python 3",
      "name": "python3"
    },
    "language_info": {
      "name": "python"
    }
  },
  "nbformat": 4,
  "nbformat_minor": 0
}